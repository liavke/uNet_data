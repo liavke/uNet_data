{
 "cells": [
  {
   "cell_type": "code",
   "execution_count": 16,
   "metadata": {},
   "outputs": [],
   "source": [
    "import cv2\n",
    "from PIL import Image\n",
    "import os\n",
    "import glob"
   ]
  },
  {
   "cell_type": "code",
   "execution_count": 8,
   "metadata": {},
   "outputs": [],
   "source": [
    "BATCH_DIR = \"/test_batch\" # Enter Directory of all images \n",
    "data_path = os.path.join(BATCH_DIR,'*jpg')\n",
    "input_data = glob.glob(data_path)\n",
    "input_data = []\n",
    "for entry in input_data:\n",
    "    img = cv2.imread(f1)\n",
    "    input_data.append(img)"
   ]
  },
  {
   "cell_type": "code",
   "execution_count": 8,
   "metadata": {},
   "outputs": [],
   "source": [
    "#save everything except file type and save dif filetype\n",
    "def imgTransfer(image_url):\n",
    "    img = Image.open(FOLDER_BEFORE + \"/\" + img_url)\n",
    "    img.save(FOLDER_TO + \"/\" + img_url[:-4] + \".jpg\") "
   ]
  },
  {
   "cell_type": "code",
   "execution_count": null,
   "metadata": {},
   "outputs": [],
   "source": [
    "import os\n",
    "#allows terminal operations "
   ]
  },
  {
   "cell_type": "code",
   "execution_count": 9,
   "metadata": {},
   "outputs": [],
   "source": [
    "#look for duplicates\n",
    "a = \"test_a/\"\n",
    "b = \"test_b/\"\n",
    "\n",
    "data_a = os.path.join(a, '*.jpg')\n",
    "data_b = os.path.join(b, '*.jpg')\n",
    "files_a = glob.glob(data_a)  \n",
    "files_b = glob.glob(data_b)\n",
    "img_data = []\n",
    "for entry1 in files_a:\n",
    "    if entry1 == files_b.__eq__:\n",
    "        continue\n",
    "    img = cv2.imread(entry1)\n",
    "    img_data.append(img)"
   ]
  },
  {
   "cell_type": "code",
   "execution_count": 32,
   "metadata": {
    "tags": []
   },
   "outputs": [
    {
     "name": "stdout",
     "output_type": "stream",
     "text": [
      "['test_a/photo-1542044896530-05d85be9b11a.jpeg']\n"
     ]
    }
   ],
   "source": [
    "#print all file names\n",
    "#print(glob.glob(\"/test_a/*\"))\n",
    "#print(os.listdir(a))\n",
    "myList = [f for f in glob.glob(a + \"*.jpeg\")]\n",
    "print(myList)"
   ]
  },
  {
   "cell_type": "code",
   "execution_count": null,
   "metadata": {},
   "outputs": [],
   "source": [
    "def loopThroughRep(IN_DIR, OUT_DIR):\n",
    "    for image_input in os.listdir(IN_DIR):\n",
    "        input_path = os.path.join(path, image_input)\n",
    "        img = cv2.imread(input_path)\n",
    "        gray = cv2.cvtColor(img, cv2.COLOR_BGR2GRAY)\n",
    "        thresh = cv2.threshold(gray, 0, 255, cv2.THRESH_BINARY)[1]\n",
    "\n",
    "        kernel = cv2.getStructuringElement(cv2.MORPH_ELLIPSE, (5,5))\n",
    "        morph = cv2.morphologyEx(thresh, cv2.MORPH_OPEN, kernel)\n",
    "\n",
    "        letter = morph.copy()\n",
    "        cntrs = cv2.findContours(morph, cv2.RETR_TREE, cv2.CHAIN_APPROX_SIMPLE)\n",
    "        cntrs = cntrs[0] if len(cntrs) == 2 else cntrs[1]\n",
    "        for c in cntrs:\n",
    "            area = cv2.contourArea(c)\n",
    "            if area < 100:\n",
    "                cv2.drawContours(letter,[c],0,(0,0,0),-1)\n",
    "        cv2.imwrite(OUT_DIR, letter)\n"
   ]
  },
  {
   "cell_type": "code",
   "execution_count": null,
   "metadata": {},
   "outputs": [],
   "source": []
  }
 ],
 "metadata": {
  "kernelspec": {
   "display_name": "Python 3",
   "language": "python",
   "name": "python3"
  },
  "language_info": {
   "codemirror_mode": {
    "name": "ipython",
    "version": 3
   },
   "file_extension": ".py",
   "mimetype": "text/x-python",
   "name": "python",
   "nbconvert_exporter": "python",
   "pygments_lexer": "ipython3",
   "version": "3.7.6"
  }
 },
 "nbformat": 4,
 "nbformat_minor": 4
}
